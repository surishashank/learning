{
 "cells": [
  {
   "cell_type": "code",
   "execution_count": 1,
   "id": "b3b7ed33",
   "metadata": {},
   "outputs": [],
   "source": [
    "import numpy as np"
   ]
  },
  {
   "cell_type": "code",
   "execution_count": 2,
   "id": "ef3b8349",
   "metadata": {},
   "outputs": [
    {
     "name": "stdout",
     "output_type": "stream",
     "text": [
      "[[ 0  1  2  3  4]\n",
      " [ 5  6  7  8  9]\n",
      " [10 11 12 13 14]\n",
      " [15 16 17 18 19]\n",
      " [20 21 22 23 24]]\n"
     ]
    }
   ],
   "source": [
    "x = np.arange(25).reshape(5,5)\n",
    "print(x)"
   ]
  },
  {
   "cell_type": "code",
   "execution_count": 5,
   "id": "02a6c3ad",
   "metadata": {},
   "outputs": [
    {
     "name": "stdout",
     "output_type": "stream",
     "text": [
      "[[False False False False False]\n",
      " [False False False False False]\n",
      " [False  True  True  True  True]\n",
      " [ True  True  True  True  True]\n",
      " [ True  True  True  True  True]]\n"
     ]
    }
   ],
   "source": [
    "print(x>10)"
   ]
  },
  {
   "cell_type": "code",
   "execution_count": 4,
   "id": "53f942c4",
   "metadata": {},
   "outputs": [
    {
     "name": "stdout",
     "output_type": "stream",
     "text": [
      "[11 12 13 14 15 16 17 18 19 20 21 22 23 24]\n"
     ]
    }
   ],
   "source": [
    "print(x[x>10])"
   ]
  },
  {
   "cell_type": "code",
   "execution_count": 6,
   "id": "e3af739b",
   "metadata": {},
   "outputs": [
    {
     "name": "stdout",
     "output_type": "stream",
     "text": [
      "[0 1 2 3 4 5 6 7]\n"
     ]
    }
   ],
   "source": [
    "print(x[x<=7])"
   ]
  },
  {
   "cell_type": "code",
   "execution_count": 9,
   "id": "a8add1a6",
   "metadata": {},
   "outputs": [
    {
     "name": "stdout",
     "output_type": "stream",
     "text": [
      "[ 6  7  8  9 10 11 12 13 14 15 16 17]\n"
     ]
    }
   ],
   "source": [
    "print(x[(x > 5) & (x < 18)])"
   ]
  },
  {
   "cell_type": "code",
   "execution_count": 10,
   "id": "6c447b56",
   "metadata": {},
   "outputs": [
    {
     "name": "stdout",
     "output_type": "stream",
     "text": [
      "[[ 0  1  2  3  4]\n",
      " [ 5  0  0  0  0]\n",
      " [ 0  0  0  0  0]\n",
      " [ 0  0  0 18 19]\n",
      " [20 21 22 23 24]]\n"
     ]
    }
   ],
   "source": [
    "# set all values between 5 and 18 to 0\n",
    "x[(x > 5) & (x < 18)] = 0\n",
    "print(x)"
   ]
  },
  {
   "cell_type": "code",
   "execution_count": 12,
   "id": "f0e0fa16",
   "metadata": {},
   "outputs": [
    {
     "name": "stdout",
     "output_type": "stream",
     "text": [
      "[1 2 3 4 5 6 7 8 9]\n",
      "[4 5 6]\n",
      "[1 2 3]\n"
     ]
    }
   ],
   "source": [
    "#finding union, intersection and differences between arrays\n",
    "x = np.array([1,2,3,4,5,6])\n",
    "y = np.array([4,5,6,7,8,9])\n",
    "\n",
    "print(np.union1d(x, y))\n",
    "print(np.intersect1d(x, y))\n",
    "print(np.setdiff1d(x, y))"
   ]
  },
  {
   "cell_type": "code",
   "execution_count": 18,
   "id": "08447b17",
   "metadata": {},
   "outputs": [
    {
     "name": "stdout",
     "output_type": "stream",
     "text": [
      "[48 88 72 69 45 32 48 33 34 75]\n"
     ]
    }
   ],
   "source": [
    "# sort\n",
    "x = np.random.randint(1, 100, 10)\n",
    "print(x)"
   ]
  },
  {
   "cell_type": "code",
   "execution_count": 19,
   "id": "c314cf6e",
   "metadata": {},
   "outputs": [
    {
     "name": "stdout",
     "output_type": "stream",
     "text": [
      "[32 33 34 45 48 48 69 72 75 88]\n",
      "[48 88 72 69 45 32 48 33 34 75]\n",
      "[32 33 34 45 48 48 69 72 75 88]\n"
     ]
    }
   ],
   "source": [
    "# sort not in place\n",
    "print(np.sort(x))\n",
    "print(x)\n",
    "\n",
    "# sort in place\n",
    "x.sort()\n",
    "print(x)"
   ]
  },
  {
   "cell_type": "code",
   "execution_count": 20,
   "id": "d1d20e07",
   "metadata": {},
   "outputs": [
    {
     "name": "stdout",
     "output_type": "stream",
     "text": [
      "[[49 99 26 88 10]\n",
      " [69 90 63 61 48]\n",
      " [50 95 83 53  8]\n",
      " [61 12 10 19 59]\n",
      " [54 78 53 63 86]]\n"
     ]
    }
   ],
   "source": [
    "# sorting 2 d arrays\n",
    "x = np.random.randint(1,100,(5,5))\n",
    "print(x)"
   ]
  },
  {
   "cell_type": "code",
   "execution_count": 21,
   "id": "eda754f7",
   "metadata": {},
   "outputs": [
    {
     "name": "stdout",
     "output_type": "stream",
     "text": [
      "[[49 12 10 19  8]\n",
      " [50 78 26 53 10]\n",
      " [54 90 53 61 48]\n",
      " [61 95 63 63 59]\n",
      " [69 99 83 88 86]]\n"
     ]
    }
   ],
   "source": [
    "# sort by row\n",
    "print(np.sort(x, axis=0))"
   ]
  },
  {
   "cell_type": "code",
   "execution_count": 22,
   "id": "c1cbd325",
   "metadata": {},
   "outputs": [
    {
     "name": "stdout",
     "output_type": "stream",
     "text": [
      "[[10 26 49 88 99]\n",
      " [48 61 63 69 90]\n",
      " [ 8 50 53 83 95]\n",
      " [10 12 19 59 61]\n",
      " [53 54 63 78 86]]\n"
     ]
    }
   ],
   "source": [
    "# sort by column\n",
    "print(np.sort(x, axis=1))"
   ]
  },
  {
   "cell_type": "code",
   "execution_count": null,
   "id": "5fad5505",
   "metadata": {},
   "outputs": [],
   "source": []
  }
 ],
 "metadata": {
  "kernelspec": {
   "display_name": "Python 3 (ipykernel)",
   "language": "python",
   "name": "python3"
  },
  "language_info": {
   "codemirror_mode": {
    "name": "ipython",
    "version": 3
   },
   "file_extension": ".py",
   "mimetype": "text/x-python",
   "name": "python",
   "nbconvert_exporter": "python",
   "pygments_lexer": "ipython3",
   "version": "3.11.5"
  }
 },
 "nbformat": 4,
 "nbformat_minor": 5
}
