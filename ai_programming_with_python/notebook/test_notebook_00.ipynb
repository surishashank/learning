{
 "cells": [
  {
   "cell_type": "code",
   "execution_count": 10,
   "id": "317ecd8f",
   "metadata": {},
   "outputs": [],
   "source": [
    "import numpy as np\n",
    "import time"
   ]
  },
  {
   "cell_type": "code",
   "execution_count": 11,
   "id": "96785abc",
   "metadata": {},
   "outputs": [],
   "source": [
    "x = np.random.random(1000000)\n",
    "mean_py = None\n",
    "mean_np = None"
   ]
  },
  {
   "cell_type": "code",
   "execution_count": 12,
   "id": "799a7b53",
   "metadata": {},
   "outputs": [
    {
     "name": "stdout",
     "output_type": "stream",
     "text": [
      "0.07948803901672363\n"
     ]
    }
   ],
   "source": [
    "start = time.time()\n",
    "mean_py = sum(x) / len(x)\n",
    "print(time.time() - start)"
   ]
  },
  {
   "cell_type": "code",
   "execution_count": 13,
   "id": "782a4c3e",
   "metadata": {},
   "outputs": [
    {
     "name": "stdout",
     "output_type": "stream",
     "text": [
      "0.0013010501861572266\n"
     ]
    }
   ],
   "source": [
    "start = time.time()\n",
    "mean_np = np.mean(x)\n",
    "print(time.time() - start)"
   ]
  },
  {
   "cell_type": "code",
   "execution_count": 14,
   "id": "99cb5837",
   "metadata": {},
   "outputs": [
    {
     "name": "stdout",
     "output_type": "stream",
     "text": [
      "0.4996849001872294\n",
      "0.4996849001872098\n"
     ]
    }
   ],
   "source": [
    "print(mean_py)\n",
    "print(mean_np)"
   ]
  },
  {
   "cell_type": "code",
   "execution_count": null,
   "id": "3ab0d0c8",
   "metadata": {},
   "outputs": [],
   "source": []
  }
 ],
 "metadata": {
  "kernelspec": {
   "display_name": "Python 3 (ipykernel)",
   "language": "python",
   "name": "python3"
  },
  "language_info": {
   "codemirror_mode": {
    "name": "ipython",
    "version": 3
   },
   "file_extension": ".py",
   "mimetype": "text/x-python",
   "name": "python",
   "nbconvert_exporter": "python",
   "pygments_lexer": "ipython3",
   "version": "3.11.5"
  }
 },
 "nbformat": 4,
 "nbformat_minor": 5
}
