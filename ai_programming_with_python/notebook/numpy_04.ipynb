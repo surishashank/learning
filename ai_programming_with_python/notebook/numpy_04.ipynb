{
 "cells": [
  {
   "cell_type": "code",
   "execution_count": 1,
   "id": "a43f653e",
   "metadata": {},
   "outputs": [],
   "source": [
    "import numpy as np"
   ]
  },
  {
   "cell_type": "code",
   "execution_count": 2,
   "id": "2f7978a9",
   "metadata": {},
   "outputs": [
    {
     "name": "stdout",
     "output_type": "stream",
     "text": [
      "[[ 1  2  3  4  5]\n",
      " [ 6  7  8  9 10]\n",
      " [11 12 13 14 15]\n",
      " [16 17 18 19 20]]\n"
     ]
    }
   ],
   "source": [
    "x = np.arange(1,21).reshape(4,5)\n",
    "print(x)"
   ]
  },
  {
   "cell_type": "code",
   "execution_count": 3,
   "id": "1f0338e8",
   "metadata": {},
   "outputs": [
    {
     "name": "stdout",
     "output_type": "stream",
     "text": [
      "[[ 8  9 10]\n",
      " [13 14 15]\n",
      " [18 19 20]]\n"
     ]
    }
   ],
   "source": [
    "z = x[1:4, 2:5]\n",
    "print(z)"
   ]
  },
  {
   "cell_type": "code",
   "execution_count": 4,
   "id": "7436547a",
   "metadata": {},
   "outputs": [
    {
     "name": "stdout",
     "output_type": "stream",
     "text": [
      "[[ 8  9 10]\n",
      " [13 14 15]\n",
      " [18 19 20]]\n"
     ]
    }
   ],
   "source": [
    "# same way to do above\n",
    "z = x[1:, 2:]\n",
    "print(z)"
   ]
  },
  {
   "cell_type": "code",
   "execution_count": 5,
   "id": "44af7a7b",
   "metadata": {},
   "outputs": [
    {
     "name": "stdout",
     "output_type": "stream",
     "text": [
      "[[ 3  4  5]\n",
      " [ 8  9 10]\n",
      " [13 14 15]]\n"
     ]
    }
   ],
   "source": [
    "z = x[:3, 2:]\n",
    "print(z)"
   ]
  },
  {
   "cell_type": "code",
   "execution_count": 7,
   "id": "6ecb28d7",
   "metadata": {},
   "outputs": [
    {
     "name": "stdout",
     "output_type": "stream",
     "text": [
      "[11 12 13 14 15]\n"
     ]
    }
   ],
   "source": [
    "z = x[2, :]\n",
    "print(z)"
   ]
  },
  {
   "cell_type": "code",
   "execution_count": 8,
   "id": "4ebeef76",
   "metadata": {},
   "outputs": [
    {
     "name": "stdout",
     "output_type": "stream",
     "text": [
      "[[11 12 13 14 15]]\n"
     ]
    }
   ],
   "source": [
    "# doing it this way returns a rank 2 array\n",
    "z = x[2:3, :]\n",
    "print(z)"
   ]
  },
  {
   "cell_type": "code",
   "execution_count": 10,
   "id": "a6f4dbe0",
   "metadata": {},
   "outputs": [
    {
     "name": "stdout",
     "output_type": "stream",
     "text": [
      "[[ 1  2  3  4  5]\n",
      " [ 6  7  8  9 10]\n",
      " [11 12 13 14 15]\n",
      " [16 17 18 19 20]] \n",
      "\n",
      "[[11 12 13 14 15]] \n",
      "\n",
      "[[  1   2   3   4   5]\n",
      " [  6   7   8   9  10]\n",
      " [ 11  12 -13  14  15]\n",
      " [ 16  17  18  19  20]] \n",
      "\n",
      "[[ 11  12 -13  14  15]] \n",
      "\n"
     ]
    }
   ],
   "source": [
    "# slicing does NOT create a copy\n",
    "x = np.arange(1,21).reshape(4,5)\n",
    "print(x, '\\n')\n",
    "\n",
    "z = x[2:3, :]\n",
    "print(z, '\\n')\n",
    "\n",
    "z[0][2] = -13\n",
    "print(x, '\\n')\n",
    "print(z, '\\n')"
   ]
  },
  {
   "cell_type": "code",
   "execution_count": 11,
   "id": "2768550d",
   "metadata": {},
   "outputs": [
    {
     "name": "stdout",
     "output_type": "stream",
     "text": [
      "[[ 1  2  3  4  5]\n",
      " [ 6  7  8  9 10]\n",
      " [11 12 13 14 15]\n",
      " [16 17 18 19 20]] \n",
      "\n",
      "[[11 12 13 14 15]] \n",
      "\n",
      "[[ 1  2  3  4  5]\n",
      " [ 6  7  8  9 10]\n",
      " [11 12 13 14 15]\n",
      " [16 17 18 19 20]] \n",
      "\n",
      "[[ 11  12 -13  14  15]] \n",
      "\n"
     ]
    }
   ],
   "source": [
    "# use copy to make changes locally\n",
    "x = np.arange(1,21).reshape(4,5)\n",
    "print(x, '\\n')\n",
    "\n",
    "z = x[2:3, :].copy()\n",
    "print(z, '\\n')\n",
    "\n",
    "z[0][2] = -13\n",
    "print(x, '\\n')\n",
    "print(z, '\\n')"
   ]
  },
  {
   "cell_type": "code",
   "execution_count": 12,
   "id": "84ab1c75",
   "metadata": {},
   "outputs": [
    {
     "name": "stdout",
     "output_type": "stream",
     "text": [
      "[ 1  7 13 19]\n"
     ]
    }
   ],
   "source": [
    "# to get diagonals\n",
    "z = np.diag(x)\n",
    "print(z)"
   ]
  },
  {
   "cell_type": "code",
   "execution_count": 13,
   "id": "290c9470",
   "metadata": {},
   "outputs": [
    {
     "name": "stdout",
     "output_type": "stream",
     "text": [
      "[ 2  8 14 20] \n",
      "\n",
      "[ 6 12 18] \n",
      "\n"
     ]
    }
   ],
   "source": [
    "# to get diagonals above or below\n",
    "z = np.diag(x, 1)\n",
    "print(z, '\\n')\n",
    "\n",
    "z = np.diag(x, -1)\n",
    "print(z, '\\n')"
   ]
  },
  {
   "cell_type": "code",
   "execution_count": 14,
   "id": "ca3220de",
   "metadata": {},
   "outputs": [
    {
     "name": "stdout",
     "output_type": "stream",
     "text": [
      "[[1 2 3]\n",
      " [3 4 5]\n",
      " [5 6 7]] \n",
      "\n",
      "[1 2 3 4 5 6 7]\n"
     ]
    }
   ],
   "source": [
    "#to get unique values\n",
    "x = np.array([[1,2,3],[3,4,5],[5,6,7]])\n",
    "print(x, '\\n')\n",
    "\n",
    "y = np.unique(x)\n",
    "print(y)"
   ]
  },
  {
   "cell_type": "code",
   "execution_count": null,
   "id": "3288180a",
   "metadata": {},
   "outputs": [],
   "source": []
  }
 ],
 "metadata": {
  "kernelspec": {
   "display_name": "Python 3 (ipykernel)",
   "language": "python",
   "name": "python3"
  },
  "language_info": {
   "codemirror_mode": {
    "name": "ipython",
    "version": 3
   },
   "file_extension": ".py",
   "mimetype": "text/x-python",
   "name": "python",
   "nbconvert_exporter": "python",
   "pygments_lexer": "ipython3",
   "version": "3.11.5"
  }
 },
 "nbformat": 4,
 "nbformat_minor": 5
}
