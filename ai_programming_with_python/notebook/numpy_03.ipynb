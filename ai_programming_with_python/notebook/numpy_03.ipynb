{
 "cells": [
  {
   "cell_type": "code",
   "execution_count": 1,
   "id": "81f60066",
   "metadata": {},
   "outputs": [],
   "source": [
    "import numpy as np"
   ]
  },
  {
   "cell_type": "code",
   "execution_count": 2,
   "id": "57fc7899",
   "metadata": {},
   "outputs": [
    {
     "name": "stdout",
     "output_type": "stream",
     "text": [
      "[0 1 2 3 4]\n"
     ]
    }
   ],
   "source": [
    "x = np.arange(5)\n",
    "print(x)"
   ]
  },
  {
   "cell_type": "code",
   "execution_count": 3,
   "id": "db3840b6",
   "metadata": {},
   "outputs": [
    {
     "name": "stdout",
     "output_type": "stream",
     "text": [
      "1st element: 0\n",
      "1st element from end: 4\n"
     ]
    }
   ],
   "source": [
    "print('1st element:', x[0])\n",
    "print('1st element from end:', x[-1])"
   ]
  },
  {
   "cell_type": "code",
   "execution_count": 4,
   "id": "89f063f5",
   "metadata": {},
   "outputs": [
    {
     "name": "stdout",
     "output_type": "stream",
     "text": [
      "[1 2 3 4 5 6 7 8]\n",
      "[1 2 4 6 7 8]\n"
     ]
    }
   ],
   "source": [
    "# delete an element from array\n",
    "x = np.arange(1,9)\n",
    "print(x)\n",
    "# delete elements at index 2 and 4\n",
    "x = np.delete(x, [2,4])\n",
    "print(x)"
   ]
  },
  {
   "cell_type": "code",
   "execution_count": 5,
   "id": "f82c2273",
   "metadata": {},
   "outputs": [
    {
     "name": "stdout",
     "output_type": "stream",
     "text": [
      "[[ 1  2  3  4]\n",
      " [ 5  6  7  8]\n",
      " [ 9 10 11 12]\n",
      " [13 14 15 16]] \n",
      "\n",
      "[[ 1  2  3  4]\n",
      " [ 9 10 11 12]\n",
      " [13 14 15 16]] \n",
      "\n",
      "[[ 2  3]\n",
      " [ 6  7]\n",
      " [10 11]\n",
      " [14 15]] \n",
      "\n"
     ]
    }
   ],
   "source": [
    "x = np.arange(1,17).reshape(4,4)\n",
    "print(x, '\\n')\n",
    "\n",
    "# delete the second row\n",
    "y = np.delete(x, 1, axis=0)\n",
    "print(y, '\\n')\n",
    "\n",
    "# delete the first and last column\n",
    "z = np.delete(x, [0,-1], axis=1)\n",
    "print(z, '\\n')"
   ]
  },
  {
   "cell_type": "code",
   "execution_count": 6,
   "id": "64028e0a",
   "metadata": {},
   "outputs": [
    {
     "name": "stdout",
     "output_type": "stream",
     "text": [
      "[0 1 2 3 4 5 6 7 8 9]\n",
      "[ 0  1  2  3  4  5  6  7  8  9 10]\n",
      "[ 0  1  2  3  4  5  6  7  8  9 10 -1 -2 -3]\n"
     ]
    }
   ],
   "source": [
    "# append element to rank 1 array\n",
    "x = np.arange(10)\n",
    "print(x)\n",
    "\n",
    "x = np.append(x, 10)\n",
    "print(x)\n",
    "\n",
    "x = np.append(x, [-1,-2,-3])\n",
    "print(x)"
   ]
  },
  {
   "cell_type": "code",
   "execution_count": 10,
   "id": "9fbfec81",
   "metadata": {},
   "outputs": [
    {
     "name": "stdout",
     "output_type": "stream",
     "text": [
      "[[ 1  2  3  4]\n",
      " [ 5  6  7  8]\n",
      " [ 9 10 11 12]\n",
      " [13 14 15 16]] \n",
      "\n",
      "[[ 1  2  3  4]\n",
      " [ 5  6  7  8]\n",
      " [ 9 10 11 12]\n",
      " [13 14 15 16]\n",
      " [17 18 19 20]] \n",
      "\n",
      "[[ 1  2  3  4 -1]\n",
      " [ 5  6  7  8 -2]\n",
      " [ 9 10 11 12 -3]\n",
      " [13 14 15 16 -4]\n",
      " [17 18 19 20 -5]] \n",
      "\n"
     ]
    }
   ],
   "source": [
    "# append elements to rank 2 array\n",
    "x = np.arange(1,17).reshape(4,4)\n",
    "print(x, '\\n')\n",
    "\n",
    "# append new row to x\n",
    "x = np.append(x, [[17,18,19,20]], axis = 0)\n",
    "print(x, '\\n')\n",
    "\n",
    "# append new column to x\n",
    "x = np.append(x, [[-1], [-2], [-3], [-4], [-5]], axis=1)\n",
    "print(x, '\\n')"
   ]
  },
  {
   "cell_type": "code",
   "execution_count": 11,
   "id": "5d5480ec",
   "metadata": {},
   "outputs": [
    {
     "name": "stdout",
     "output_type": "stream",
     "text": [
      "[1 2 5 6 7]\n",
      "[1 2 3 4 5 6 7]\n"
     ]
    }
   ],
   "source": [
    "# inserting in the middle of arrays\n",
    "x = np.array([1,2,5,6,7])\n",
    "print(x)\n",
    "\n",
    "x = np.insert(x, 2, [3,4])\n",
    "print(x)"
   ]
  },
  {
   "cell_type": "code",
   "execution_count": 16,
   "id": "3aca3b27",
   "metadata": {},
   "outputs": [
    {
     "name": "stdout",
     "output_type": "stream",
     "text": [
      "[[1 2 3]\n",
      " [7 8 9]] \n",
      "\n",
      "[[1 2 3]\n",
      " [4 5 6]\n",
      " [7 8 9]] \n",
      "\n",
      "[[ 1  2 -1  3]\n",
      " [ 4  5 -2  6]\n",
      " [ 7  8 -3  9]] \n",
      "\n"
     ]
    }
   ],
   "source": [
    "# inserting in 2d arrays\n",
    "x = np.array([[1,2,3],[7,8,9]])\n",
    "print(x, '\\n')\n",
    "\n",
    "x = np.insert(x, 1, [4,5,6], axis=0)\n",
    "print(x, '\\n')\n",
    "\n",
    "x = np.insert(x, 2, [[-1,-2,-3]], axis=1)\n",
    "print(x, '\\n')"
   ]
  },
  {
   "cell_type": "code",
   "execution_count": 19,
   "id": "7e7989f8",
   "metadata": {},
   "outputs": [
    {
     "name": "stdout",
     "output_type": "stream",
     "text": [
      "[1 2] \n",
      "\n",
      "[[3 4]\n",
      " [5 6]] \n",
      "\n",
      "[[1 2]\n",
      " [3 4]\n",
      " [5 6]] \n",
      "\n"
     ]
    }
   ],
   "source": [
    "# stacking arrays\n",
    "x = np.array([1,2])\n",
    "y = np.array([[3,4], [5,6]])\n",
    "print(x,'\\n')\n",
    "print(y,'\\n')\n",
    "\n",
    "z = np.vstack((x,y))\n",
    "print(z,'\\n')"
   ]
  },
  {
   "cell_type": "code",
   "execution_count": 21,
   "id": "02f971a5",
   "metadata": {},
   "outputs": [
    {
     "name": "stdout",
     "output_type": "stream",
     "text": [
      "[[1 3 4]\n",
      " [2 5 6]] \n",
      "\n"
     ]
    }
   ],
   "source": [
    "z = np.hstack((x.reshape(2,1),y))\n",
    "print(z,'\\n')"
   ]
  },
  {
   "cell_type": "code",
   "execution_count": null,
   "id": "7586990e",
   "metadata": {},
   "outputs": [],
   "source": []
  }
 ],
 "metadata": {
  "kernelspec": {
   "display_name": "Python 3 (ipykernel)",
   "language": "python",
   "name": "python3"
  },
  "language_info": {
   "codemirror_mode": {
    "name": "ipython",
    "version": 3
   },
   "file_extension": ".py",
   "mimetype": "text/x-python",
   "name": "python",
   "nbconvert_exporter": "python",
   "pygments_lexer": "ipython3",
   "version": "3.11.5"
  }
 },
 "nbformat": 4,
 "nbformat_minor": 5
}
