{
 "cells": [
  {
   "cell_type": "code",
   "execution_count": 1,
   "id": "230d2b83",
   "metadata": {},
   "outputs": [],
   "source": [
    "import numpy as np\n",
    "\n",
    "x = np.array([1, 2, 3, 4, 5])"
   ]
  },
  {
   "cell_type": "code",
   "execution_count": 2,
   "id": "bcafb7a3",
   "metadata": {},
   "outputs": [
    {
     "name": "stdout",
     "output_type": "stream",
     "text": [
      "[1 2 3 4 5]\n",
      "<class 'numpy.ndarray'>\n"
     ]
    }
   ],
   "source": [
    "print(x)\n",
    "print(type(x))"
   ]
  },
  {
   "cell_type": "code",
   "execution_count": 4,
   "id": "2c775e4b",
   "metadata": {},
   "outputs": [
    {
     "name": "stdout",
     "output_type": "stream",
     "text": [
      "int64\n"
     ]
    }
   ],
   "source": [
    "print(x.dtype)"
   ]
  },
  {
   "cell_type": "code",
   "execution_count": 5,
   "id": "b172cbda",
   "metadata": {},
   "outputs": [
    {
     "name": "stdout",
     "output_type": "stream",
     "text": [
      "(5,)\n"
     ]
    }
   ],
   "source": [
    "print(x.shape)"
   ]
  },
  {
   "cell_type": "code",
   "execution_count": 9,
   "id": "a853b85f",
   "metadata": {},
   "outputs": [
    {
     "name": "stdout",
     "output_type": "stream",
     "text": [
      "[[ 1  2  3]\n",
      " [ 4  5  6]\n",
      " [ 7  8  9]\n",
      " [10 11 12]]\n"
     ]
    }
   ],
   "source": [
    "y = np.array([[1,2,3], [4,5,6], [7,8,9], [10,11,12]])\n",
    "print(y)"
   ]
  },
  {
   "cell_type": "code",
   "execution_count": 10,
   "id": "e6b2ec79",
   "metadata": {},
   "outputs": [
    {
     "name": "stdout",
     "output_type": "stream",
     "text": [
      "(4, 3)\n"
     ]
    }
   ],
   "source": [
    "print(y.shape)"
   ]
  },
  {
   "cell_type": "code",
   "execution_count": 11,
   "id": "2c8ce780",
   "metadata": {},
   "outputs": [
    {
     "data": {
      "text/plain": [
       "12"
      ]
     },
     "execution_count": 11,
     "metadata": {},
     "output_type": "execute_result"
    }
   ],
   "source": [
    "y.size"
   ]
  },
  {
   "cell_type": "code",
   "execution_count": 13,
   "id": "e2c30bf7",
   "metadata": {},
   "outputs": [
    {
     "name": "stdout",
     "output_type": "stream",
     "text": [
      "<U5\n",
      "(2,)\n",
      "2\n"
     ]
    }
   ],
   "source": [
    "z = np.array(['hello', 'world'])\n",
    "print(z.dtype)\n",
    "print(z.shape)\n",
    "print(z.size)"
   ]
  },
  {
   "cell_type": "code",
   "execution_count": 14,
   "id": "2756d5b9",
   "metadata": {},
   "outputs": [
    {
     "name": "stdout",
     "output_type": "stream",
     "text": [
      "<U21\n",
      "(4,)\n",
      "4\n"
     ]
    }
   ],
   "source": [
    "z = np.array([1, 2, 'hello', 'world'])\n",
    "print(z.dtype)\n",
    "print(z.shape)\n",
    "print(z.size)"
   ]
  },
  {
   "cell_type": "code",
   "execution_count": 15,
   "id": "a61018a3",
   "metadata": {},
   "outputs": [
    {
     "name": "stdout",
     "output_type": "stream",
     "text": [
      "float64\n",
      "(4,)\n",
      "4\n"
     ]
    }
   ],
   "source": [
    "z = np.array([1, 2, 3.5, 4.1])\n",
    "print(z.dtype)\n",
    "print(z.shape)\n",
    "print(z.size)"
   ]
  },
  {
   "cell_type": "code",
   "execution_count": 18,
   "id": "939d5dad",
   "metadata": {},
   "outputs": [
    {
     "name": "stdout",
     "output_type": "stream",
     "text": [
      "[1 2 3 4]\n",
      "int64\n",
      "(4,)\n",
      "4\n"
     ]
    }
   ],
   "source": [
    "z = np.array([1, 2, 3.5, 4.1], dtype=np.int64)\n",
    "print(z)\n",
    "print(z.dtype)\n",
    "print(z.shape)\n",
    "print(z.size)"
   ]
  },
  {
   "cell_type": "code",
   "execution_count": 20,
   "id": "eeab1a34",
   "metadata": {},
   "outputs": [],
   "source": [
    "np.save('my_array', z)"
   ]
  },
  {
   "cell_type": "code",
   "execution_count": 21,
   "id": "4996a3a2",
   "metadata": {},
   "outputs": [
    {
     "name": "stdout",
     "output_type": "stream",
     "text": [
      "[1 2 3 4]\n"
     ]
    }
   ],
   "source": [
    "a = np.load('my_array.npy')\n",
    "print(a)"
   ]
  },
  {
   "cell_type": "code",
   "execution_count": null,
   "id": "3f4f1c8d",
   "metadata": {},
   "outputs": [],
   "source": []
  }
 ],
 "metadata": {
  "kernelspec": {
   "display_name": "Python 3 (ipykernel)",
   "language": "python",
   "name": "python3"
  },
  "language_info": {
   "codemirror_mode": {
    "name": "ipython",
    "version": 3
   },
   "file_extension": ".py",
   "mimetype": "text/x-python",
   "name": "python",
   "nbconvert_exporter": "python",
   "pygments_lexer": "ipython3",
   "version": "3.11.5"
  }
 },
 "nbformat": 4,
 "nbformat_minor": 5
}
