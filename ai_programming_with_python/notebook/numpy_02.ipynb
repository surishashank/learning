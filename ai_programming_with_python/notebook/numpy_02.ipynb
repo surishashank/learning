{
 "cells": [
  {
   "cell_type": "code",
   "execution_count": 1,
   "id": "f3a81c0c",
   "metadata": {},
   "outputs": [],
   "source": [
    "import numpy as np"
   ]
  },
  {
   "cell_type": "code",
   "execution_count": 4,
   "id": "024d90fd",
   "metadata": {},
   "outputs": [
    {
     "name": "stdout",
     "output_type": "stream",
     "text": [
      "[[0. 0. 0. 0.]\n",
      " [0. 0. 0. 0.]\n",
      " [0. 0. 0. 0.]]\n"
     ]
    }
   ],
   "source": [
    "x = np.zeros((3, 4))\n",
    "print(x)"
   ]
  },
  {
   "cell_type": "code",
   "execution_count": 6,
   "id": "89726af0",
   "metadata": {},
   "outputs": [
    {
     "name": "stdout",
     "output_type": "stream",
     "text": [
      "[[1 1 1]\n",
      " [1 1 1]]\n"
     ]
    }
   ],
   "source": [
    "x = np.ones((2,3), dtype=np.int64)\n",
    "print(x)"
   ]
  },
  {
   "cell_type": "code",
   "execution_count": 7,
   "id": "1890ba82",
   "metadata": {},
   "outputs": [
    {
     "name": "stdout",
     "output_type": "stream",
     "text": [
      "[[-1 -1 -1 -1 -1]\n",
      " [-1 -1 -1 -1 -1]\n",
      " [-1 -1 -1 -1 -1]]\n"
     ]
    }
   ],
   "source": [
    "x = np.full((3,5), -1)\n",
    "print(x)"
   ]
  },
  {
   "cell_type": "code",
   "execution_count": 8,
   "id": "d28552dd",
   "metadata": {},
   "outputs": [
    {
     "name": "stdout",
     "output_type": "stream",
     "text": [
      "[[1. 0. 0. 0.]\n",
      " [0. 1. 0. 0.]\n",
      " [0. 0. 1. 0.]\n",
      " [0. 0. 0. 1.]]\n"
     ]
    }
   ],
   "source": [
    "x = np.eye(4)\n",
    "print(x)"
   ]
  },
  {
   "cell_type": "code",
   "execution_count": 9,
   "id": "7a8730ba",
   "metadata": {},
   "outputs": [
    {
     "name": "stdout",
     "output_type": "stream",
     "text": [
      "[[10  0  0  0]\n",
      " [ 0 15  0  0]\n",
      " [ 0  0 60  0]\n",
      " [ 0  0  0 90]]\n"
     ]
    }
   ],
   "source": [
    "x = np.diag([10,15,60,90])\n",
    "print(x)"
   ]
  },
  {
   "cell_type": "code",
   "execution_count": 11,
   "id": "fac67235",
   "metadata": {},
   "outputs": [
    {
     "name": "stdout",
     "output_type": "stream",
     "text": [
      "[0 1 2 3 4 5 6 7 8 9]\n"
     ]
    }
   ],
   "source": [
    "x = np.arange(10)\n",
    "print(x)"
   ]
  },
  {
   "cell_type": "code",
   "execution_count": 12,
   "id": "832fc641",
   "metadata": {},
   "outputs": [
    {
     "name": "stdout",
     "output_type": "stream",
     "text": [
      "[5 6 7 8 9]\n"
     ]
    }
   ],
   "source": [
    "x = np.arange(5, 10)\n",
    "print(x)"
   ]
  },
  {
   "cell_type": "code",
   "execution_count": 14,
   "id": "bc1b09f5",
   "metadata": {},
   "outputs": [
    {
     "name": "stdout",
     "output_type": "stream",
     "text": [
      "[ 1  4  7 10 13]\n"
     ]
    }
   ],
   "source": [
    "x = np.arange(1, 14, 3)\n",
    "print(x)"
   ]
  },
  {
   "cell_type": "code",
   "execution_count": 16,
   "id": "1f1c143b",
   "metadata": {},
   "outputs": [
    {
     "name": "stdout",
     "output_type": "stream",
     "text": [
      "[ 0.          2.77777778  5.55555556  8.33333333 11.11111111 13.88888889\n",
      " 16.66666667 19.44444444 22.22222222 25.        ]\n"
     ]
    }
   ],
   "source": [
    "# for non integer steps\n",
    "x = np.linspace(0, 25, 10)\n",
    "print(x)"
   ]
  },
  {
   "cell_type": "code",
   "execution_count": 17,
   "id": "44130eb4",
   "metadata": {},
   "outputs": [
    {
     "name": "stdout",
     "output_type": "stream",
     "text": [
      "[ 0.   2.5  5.   7.5 10.  12.5 15.  17.5 20.  22.5]\n"
     ]
    }
   ],
   "source": [
    "# for non integer steps\n",
    "x = np.linspace(0, 25, 10, endpoint = False)\n",
    "print(x)"
   ]
  },
  {
   "cell_type": "code",
   "execution_count": 20,
   "id": "ace62da6",
   "metadata": {},
   "outputs": [
    {
     "name": "stdout",
     "output_type": "stream",
     "text": [
      "[0 1 2 3 4 5 6 7 8 9]\n",
      "[[0 1 2 3 4]\n",
      " [5 6 7 8 9]]\n",
      "[[0 1 2 3 4]\n",
      " [5 6 7 8 9]]\n"
     ]
    }
   ],
   "source": [
    "# to reshape arrays\n",
    "x = np.arange(10)\n",
    "print(x)\n",
    "\n",
    "#reshape using np.reshape\n",
    "y = np.reshape(x, (2,5))\n",
    "print(y)\n",
    "\n",
    "#reshae using object.reshape\n",
    "z = x.reshape(2, 5)\n",
    "print(z)"
   ]
  },
  {
   "cell_type": "code",
   "execution_count": 21,
   "id": "4114a780",
   "metadata": {},
   "outputs": [
    {
     "name": "stdout",
     "output_type": "stream",
     "text": [
      "[[0.11614467 0.58892452 0.33449466]\n",
      " [0.63692761 0.01661681 0.24407343]\n",
      " [0.2452431  0.11050017 0.44772861]]\n"
     ]
    }
   ],
   "source": [
    "# create a 3x3 array with random floats between 0 and 1\n",
    "x = np.random.random((3,3))\n",
    "print(x)"
   ]
  },
  {
   "cell_type": "code",
   "execution_count": 24,
   "id": "501d4142",
   "metadata": {},
   "outputs": [
    {
     "name": "stdout",
     "output_type": "stream",
     "text": [
      "[[47 32 15]\n",
      " [30 29 29]\n",
      " [40 21 15]]\n"
     ]
    }
   ],
   "source": [
    "# create a 3x3 array with random ints between 10 and 50\n",
    "x = np.random.randint(10, 50, (3,3))\n",
    "print(x)"
   ]
  },
  {
   "cell_type": "code",
   "execution_count": 27,
   "id": "a3a7155e",
   "metadata": {},
   "outputs": [
    {
     "name": "stdout",
     "output_type": "stream",
     "text": [
      "[[2.16516708 1.8861544  2.21052954 2.61431058 2.63360833 1.78133557\n",
      "  2.59556519 1.76964751 2.34450494 2.2942877 ]\n",
      " [1.89008448 2.23395523 2.53525168 2.33477515 3.329814   2.14252023\n",
      "  1.93751452 2.65080542 2.28524957 2.2532684 ]\n",
      " [1.38903378 2.14969657 1.94590251 0.98394097 1.89077481 1.61429844\n",
      "  1.40834351 0.62750208 1.26977274 2.77952388]\n",
      " [2.52202235 1.23796131 1.80732182 1.98445228 1.5155505  2.88108187\n",
      "  1.89835432 2.15919456 1.45782538 1.74919999]\n",
      " [2.29130164 2.14497301 2.22390817 1.75187817 1.34053938 2.34779925\n",
      "  1.66176229 2.17566493 2.28684374 1.59925432]\n",
      " [1.70251832 1.73299983 2.11734017 1.40242617 2.02545345 1.74239861\n",
      "  1.93241868 2.21515197 1.54541954 2.16276694]\n",
      " [2.09572225 1.67592924 2.1858188  2.06532583 1.12441863 0.73541769\n",
      "  1.12110504 2.24461539 2.08287092 2.18835083]\n",
      " [2.68832932 2.14952903 1.96781459 1.85208274 1.014243   1.50510936\n",
      "  2.06983456 2.67255381 2.24718806 2.08458963]\n",
      " [2.05709066 2.5035553  2.42733556 2.29491152 2.32293414 1.77080202\n",
      "  2.76043514 2.728618   3.12067464 2.18222592]\n",
      " [2.72937369 1.89297895 2.05527054 2.37923709 2.66656696 1.79583314\n",
      "  2.31135672 2.64829756 2.77554845 2.85558104]]\n"
     ]
    }
   ],
   "source": [
    "# create a 10x10 array of random numbers drawn from a normal distribution\n",
    "# with mean = 2 and stdev = 0.5\n",
    "x = np.random.normal(2, 0.5, (10, 10))\n",
    "print(x)"
   ]
  },
  {
   "cell_type": "code",
   "execution_count": 28,
   "id": "8dfa5165",
   "metadata": {},
   "outputs": [
    {
     "name": "stdout",
     "output_type": "stream",
     "text": [
      "mean:  2.0561239751475493\n",
      "stdev:  0.5010306620999677\n",
      "max:  3.329813995175477\n",
      "min:  0.6275020802567124\n",
      "# > 2:  59\n",
      "# < 2:  41\n"
     ]
    }
   ],
   "source": [
    "print('mean: ', x.mean())\n",
    "print('stdev: ', x.std())\n",
    "print('max: ', x.max())\n",
    "print('min: ', x.min())\n",
    "print('# > 2: ', (x>2).sum())\n",
    "print('# < 2: ', (x<2).sum())"
   ]
  },
  {
   "cell_type": "code",
   "execution_count": null,
   "id": "60f30981",
   "metadata": {},
   "outputs": [],
   "source": []
  }
 ],
 "metadata": {
  "kernelspec": {
   "display_name": "Python 3 (ipykernel)",
   "language": "python",
   "name": "python3"
  },
  "language_info": {
   "codemirror_mode": {
    "name": "ipython",
    "version": 3
   },
   "file_extension": ".py",
   "mimetype": "text/x-python",
   "name": "python",
   "nbconvert_exporter": "python",
   "pygments_lexer": "ipython3",
   "version": "3.11.5"
  }
 },
 "nbformat": 4,
 "nbformat_minor": 5
}
